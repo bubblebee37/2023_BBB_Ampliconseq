{
 "cells": [
  {
   "cell_type": "code",
   "execution_count": null,
   "metadata": {},
   "outputs": [],
   "source": [
    "#Import needed python packages.\n",
    "import os\n",
    "import pandas as pd\n",
    "import numpy as np\n",
    "import matplotlib.pyplot as plt\n",
    "\n",
    "import tensorflow as tf\n",
    "from tensorflow import keras\n",
    "from tensorflow.keras import layers\n",
    "from tensorflow.keras import models\n",
    "\n",
    "os.environ[\"HOME\"]"
   ]
  },
  {
   "cell_type": "code",
   "execution_count": null,
   "metadata": {},
   "outputs": [],
   "source": [
    "AUTOTUNE = tf.data.experimental.AUTOTUNE"
   ]
  },
  {
   "cell_type": "code",
   "execution_count": null,
   "metadata": {},
   "outputs": [],
   "source": [
    "#Set the function to change the format of peptide sequence to one-hot encoded matrix composed of 0 or 1.\n",
    "def one_hot_encoding(s):\n",
    "    pep_num = ' '.join([str(ints) for ints in range(20)])\n",
    "    pep_ref = 'A C D E F G H I K L M N P Q R S T V W Y'\n",
    "    d = dict(zip(pep_ref.split(' '), pep_num.split(' ')))\n",
    "    x = np.zeros((len(d), len(s)))\n",
    "    x[[int(d[c]) for c in s], range(len(s))] = 1\n",
    "    return x"
   ]
  },
  {
   "cell_type": "code",
   "execution_count": null,
   "metadata": {},
   "outputs": [],
   "source": [
    "#Load the input peptide sequence file. You can simplify this step only using the list of peptide sequence.\n",
    "folder_input = 'INPUT_SEQUENCE_FILE_PATH'\n",
    "test_input = pd.read_csv('{}/INPUT_FILE.csv'.format(folder_input), sep = \"\\t\", index_col = 0)\n",
    "seq_input = test_input['Pep_seq'].tolist()"
   ]
  },
  {
   "cell_type": "code",
   "execution_count": null,
   "metadata": {},
   "outputs": [],
   "source": [
    "#Make the array of one-hot encoded peptide sequence.\n",
    "seq_encode = [one_hot_encoding(x) for x in seq_input]\n",
    "seq_encode = np.transpose(np.asarray(seq_encode), (0, 2, 1))"
   ]
  },
  {
   "cell_type": "code",
   "execution_count": null,
   "metadata": {},
   "outputs": [],
   "source": [
    "#Call the CNN model and add the encoded sequence to predict the BBB penetration probability.\n",
    "model_fit = keras.models.load_model(\"FINALIZED_MODEL_FILE_PATH\")\n",
    "seq_score = fitted_model.predict(seq_encode)\n",
    "seq_score_flat = seq_score.flatten()\n",
    "seq_score_list = list(seq_score_flat)"
   ]
  },
  {
   "cell_type": "code",
   "execution_count": null,
   "metadata": {},
   "outputs": [],
   "source": [
    "fitted_model.fit(seq_encode, seq_score_flat)"
   ]
  },
  {
   "cell_type": "code",
   "execution_count": null,
   "metadata": {},
   "outputs": [],
   "source": [
    "seq_data = pd.DataFrame(zip(seq_input, seq_score_list), columns = ['Sequence', 'Probability'])"
   ]
  }
 ],
 "metadata": {
  "kernelspec": {
   "display_name": "Python 3",
   "language": "python",
   "name": "python3"
  },
  "language_info": {
   "codemirror_mode": {
    "name": "ipython",
    "version": 3
   },
   "file_extension": ".py",
   "mimetype": "text/x-python",
   "name": "python",
   "nbconvert_exporter": "python",
   "pygments_lexer": "ipython3",
   "version": "3.7.6"
  }
 },
 "nbformat": 4,
 "nbformat_minor": 5
}
