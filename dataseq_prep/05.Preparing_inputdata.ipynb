{
 "cells": [
  {
   "cell_type": "code",
   "execution_count": null,
   "metadata": {},
   "outputs": [],
   "source": [
    "import os\n",
    "import glob\n",
    "import pandas as pd\n",
    "import sys\n",
    "import numpy as np\n",
    "from functools import reduce\n",
    "\n",
    "os.environ[\"HOME\"]"
   ]
  },
  {
   "cell_type": "code",
   "execution_count": null,
   "metadata": {
    "scrolled": true
   },
   "outputs": [],
   "source": [
    "#Import sample.pVR_freq files as the form of table set\n",
    "folder_pVR = '.pVR_freq_FILE_PATH'\n",
    "pVR_files = glob.glob(os.path.join(folder_pVR, \"*.pVR_freq\"))\n",
    "pVR_tableset = []\n",
    "for filename in pVR_files:\n",
    "    df_pVR = pd.read_csv(filename, sep = '\\t')\n",
    "    pVR_tableset.append(df_pVR)"
   ]
  },
  {
   "cell_type": "code",
   "execution_count": null,
   "metadata": {},
   "outputs": [],
   "source": [
    "#Pair each sample with the sample's table set\n",
    "new_pVR_f = []\n",
    "for valname in pVR_files:\n",
    "    spliced_name = valname.split('/')[-1].split('.')[0]\n",
    "    new_pVR_f.append(spliced_name)\n",
    "dict_pVR_df = dict(zip(new_pVR_f, pVR_tableset))"
   ]
  },
  {
   "cell_type": "code",
   "execution_count": null,
   "metadata": {},
   "outputs": [],
   "source": [
    "#Create the dataframe with only the sequence and frequency of dataframes\n",
    "for key, val in dict_pVR_df.items():\n",
    "    val.drop(['Rank', 'Count', 'nseq_count', 'pct_over3', 'nseq_rep', 'nseq_rep_count'], axis = 1, inplace = True)\n",
    "    val.columns = ['Pep_seq', str(key)]"
   ]
  },
  {
   "cell_type": "code",
   "execution_count": null,
   "metadata": {},
   "outputs": [],
   "source": [
    "#Assign the variables with each sample's dataframe : each name of merged columns = dict_pVR_df[str(key)]\n",
    "Chip_1 = dict_pVR_df['chip_1']\n",
    "Chip_2 = dict_pVR_df['chip_2']\n",
    "Chip_3 = dict_pVR_df['chip_3']\n",
    "Well_1 = dict_pVR_df['well_1']\n",
    "Well_2 = dict_pVR_df['well_2']\n",
    "Well_3 = dict_pVR_df['well_3']\n",
    "Input1_1 = dict_pVR_df['input_1']\n",
    "Input1_2 = dict_pVR_df['input_2']\n",
    "Input1_3 = dict_pVR_df['input_3']\n",
    "Input2_1 = dict_pVR_df['input_new_1']\n",
    "Input2_2 = dict_pVR_df['input_new_2']\n",
    "Input2_3 = dict_pVR_df['input_new_3']\n",
    "Mouse_1 = dict_pVR_df['invivo_1']\n",
    "Mouse_2 = dict_pVR_df['invivo_2']\n",
    "Mouse_3 = dict_pVR_df['invivo_3']"
   ]
  },
  {
   "cell_type": "code",
   "execution_count": null,
   "metadata": {},
   "outputs": [],
   "source": [
    "#Change the sequence count frequency to the count per million (CPM)\n",
    "merge_all = [Input1_1, Input1_2, Input1_3, Input2_1, Input2_2, Input2_3, Well_1, Well_2, Well_3, Chip_1, Chip_2, Chip_3, Mouse_1, Mouse_2, Mouse_3]\n",
    "merged_pct = reduce(lambda left, right : pd.merge(left, right, on = ['Pep_seq'], how = 'outer'), merge_all)\n",
    "merged_pct = merged_pct.fillna(0)\n",
    "merged_pct.columns = [\"Pep_seq\", \"Input1_1\", \"Input1_2\", \"Input1_3\", \"Input2_1\", \"Input2_2\", \"Input2_3\", \"Well_1\", \"Well_2\", \"Well_3\", \"Chip_1\", \"Chip_2\", \"Chip_3\", \"Invivo_1\", \"Invivo_2\", \"Invivo_3\"]\n",
    "droped_pct = merged_pct.drop([\"Pep_seq\"], axis = 1)\n",
    "merged_pep = merged_pct.drop([\"Input1_1\", \"Input1_2\", \"Input1_3\", \"Input2_1\", \"Input2_2\", \"Input2_3\", \"Well_1\", \"Well_2\", \"Well_3\", \"Chip_1\", \"Chip_2\", \"Chip_3\", \"Invivo_1\", \"Invivo_2\", \"Invivo_3\"], axis = 1)\n",
    "merged_cpm = droped_pct.mul(10000)\n",
    "CPM_total = pd.concat([merged_pep, merged_cpm], axis = 1)"
   ]
  },
  {
   "cell_type": "code",
   "execution_count": null,
   "metadata": {},
   "outputs": [],
   "source": [
    "#Remove the sequences with stop codon & outlier sequences (if 0 appears in more than half of the sample columns, it is designated as an outlier and filtered out.)\n",
    "#t : in vitro\n",
    "#m : in vivo\n",
    "CPM_total = CPM_total[~CPM_total['Pep_seq'].str.contains(\"\\*\")]\n",
    "filtered_t = CPM_total.copy()\n",
    "filtered_m = CPM_total.copy()\n",
    "#Filtering for in vitro samples (with input lot used for in vitro experiment)\n",
    "filtered_t = filtered_t.drop(['Input2_1', 'Input2_2', 'Input2_3', 'Invivo_1', 'Invivo_2', 'Invivo_3'], axis = 1)\n",
    "filtered_t['Count'] = (filtered_t[['Input1_1', 'Input1_2', 'Input1_3', 'Well_1', 'Well_2', 'Well_3', 'Chip_1', 'Chip_2', 'Chip_3']] == 0).sum(axis=1)\n",
    "filtered_t = filtered_t[filtered_t['Count'] < 6]\n",
    "filtered_t = filtered_t.drop(['Count'], axis = 1)\n",
    "#Filtering for in vivo samples (with input lot used for in vivo experiment)\n",
    "filtered_m = filtered_m.drop(['Input1_1', 'Input1_2', 'Input1_3', 'Well_1', 'Well_2', 'Well_3', 'Chip_1', 'Chip_2', 'Chip_3'], axis = 1)\n",
    "filtered_m['Count'] = (filtered_m[['Input2_1', 'Input2_2', 'Input2_3', 'Invivo_1', 'Invivo_2', 'Invivo_3']] == 0).sum(axis=1)\n",
    "filtered_m = filtered_m[filtered_m['Count'] < 5]\n",
    "filtered_m = filtered_m.drop(['Count'], axis = 1)"
   ]
  },
  {
   "cell_type": "code",
   "execution_count": null,
   "metadata": {},
   "outputs": [],
   "source": [
    "#Make separated variables of dataframe with input background (transwell - tw, chip - c, in vivo - m)\n",
    "m_tw = filtered_t.loc[:, [\"Pep_seq\", \"Input1_1\", \"Input1_2\", \"Input1_3\", \"Well_1\", \"Well_2\", \"Well_3\"]]\n",
    "m_c = filtered_t.loc[:, [\"Pep_seq\", \"Input1_1\", \"Input1_2\", \"Input1_3\", \"Chip_1\", \"Chip_2\", \"Chip_3\"]]\n",
    "m_m = filtered_m.loc[:, [\"Pep_seq\", \"Input2_1\", \"Input2_2\", \"Input2_3\", \"Invivo_1\", \"Invivo_2\", \"Invivo_3\"]]"
   ]
  },
  {
   "cell_type": "code",
   "execution_count": null,
   "metadata": {},
   "outputs": [],
   "source": [
    "# Filtering the enriched peptide sequences using the criteria (top 2,000)\n",
    "m_tw_top = m_tw.loc[(m_tw['Well_1'] <= m_tw['Well_2']) & (m_tw['Well_1'] < m_tw['Well_3']) & (m_tw['Input1_3'] < m_tw['Well_3']), :]\n",
    "m_tw_top = m_tw_top.sort_values(by = [\"Well_3\"], axis = 0, ascending = False)\n",
    "m_tw_top_input = m_tw_top.head(2000)\n",
    "m_c_top = m_c.loc[(m_c['Chip_1'] <= m_c['Chip_2']) & (m_c['Chip_1'] < m_c['Chip_3']) & (m_c['Input1_3'] < m_c['Chip_3']), :]\n",
    "m_c_top = m_c_top.sort_values(by = [\"Chip_3\"], axis = 0, ascending = False)\n",
    "m_c_top_input = m_c_top.head(2000)\n",
    "m_m_top = m_m.loc[(m_m['Invivo_1'] <= m_m['Invivo_2']) & (m_m['Invivo_1'] < m_m['Invivo_3']) & (m_m['Input2_3'] < m_m['Invivo_3']), :]\n",
    "m_m_top = m_m_top.sort_values(by = [\"Invivo_3\"], axis = 0, ascending = False)\n",
    "m_m_top_input = m_m_top.head(2000)"
   ]
  },
  {
   "cell_type": "code",
   "execution_count": null,
   "metadata": {},
   "outputs": [],
   "source": [
    "# Filtering the not-enriched peptide sequences using the criteria (bottom 2,000)\n",
    "m_tw_bot = m_tw.loc[(m_tw['Input1_1'] > m_tw['Input1_2']) & (m_tw['Input1_2'] >= m_tw['Input1_3']) & (m_tw['Input1_1'] > m_tw['Well_1']), :]\n",
    "m_tw_bot = m_tw_bot.sort_values(by = [\"Well_3\"], axis = 0, ascending = True)\n",
    "m_tw_bot_input = m_tw_bot.head(2000)\n",
    "m_c_bot = m_c.loc[(m_c['Input1_1'] > m_c['Input1_2']) & (m_c['Input1_2'] >= m_c['Input1_3']) & (m_c['Input1_1'] > m_c['Chip_1']), :]\n",
    "m_c_bot = m_c.sort_values(by = [\"Chip_3\"], axis = 0, ascending = True)\n",
    "m_c_bot_input = m_c_bot.head(2000)\n",
    "m_m_bot = m_m.loc[(m_m['Input2_1'] > m_m['Input2_2']) & (m_m['Input2_2'] >= m_m['Input2_3']) & (m_m['Input2_1'] > m_m['Invivo_1']), :]\n",
    "m_m_bot = m_m.sort_values(by = [\"Invivo_3\"], axis = 0, ascending = True)\n",
    "m_m_bot_input = m_m_bot.head(2000)"
   ]
  },
  {
   "cell_type": "code",
   "execution_count": null,
   "metadata": {},
   "outputs": [],
   "source": [
    "#Add the class to each filtered sequence\n",
    "#Enriched peptide : 1\n",
    "#Not-enriched peptide : 0\n",
    "m_tw_top_input.insert(7, 'Class', 1)\n",
    "m_c_top_input.insert(7, 'Class', 1)\n",
    "m_m_top_input.insert(7, 'Class', 1)\n",
    "m_tw_bot_input.insert(7, 'Class', 0)\n",
    "m_c_bot_input.insert(7, 'Class', 0)\n",
    "m_m_bot_input.insert(7, 'Class', 0)"
   ]
  },
  {
   "cell_type": "code",
   "execution_count": null,
   "metadata": {},
   "outputs": [],
   "source": [
    "#Concatenate the enriched and not-enriched peptides in one dataframe\n",
    "merged_input_tw = pd.concat([m_tw_top_input, m_tw_bot_input], axis = 0)\n",
    "merged_input_c = pd.concat([m_c_top_input, m_c_bot_input], axis = 0)\n",
    "merged_input_m = pd.concat([m_m_top_input, m_m_bot_input], axis = 0)"
   ]
  },
  {
   "cell_type": "code",
   "execution_count": null,
   "metadata": {},
   "outputs": [],
   "source": [
    "#Export the dataframe in each experiment (transwell, chip, in vivo) that is applied to machine learning prediction (ML)\n",
    "merged_input_tw.to_csv(\"INPUT_FILE_PATH_FOR_ML/Input4000_ML_tw.csv\", sep = \"\\t\")\n",
    "merged_input_c.to_csv(\"INPUT_FILE_PATH_FOR_ML/Input4000_ML_c.csv\", sep = \"\\t\")\n",
    "merged_input_m.to_csv(\"INPUT_FILE_PATH_FOR_ML/Input4000_ML_m.csv\", sep = \"\\t\")"
   ]
  },
  {
   "cell_type": "code",
   "execution_count": null,
   "metadata": {},
   "outputs": [],
   "source": []
  }
 ],
 "metadata": {
  "kernelspec": {
   "display_name": "Python 3",
   "language": "python",
   "name": "python3"
  },
  "language_info": {
   "codemirror_mode": {
    "name": "ipython",
    "version": 3
   },
   "file_extension": ".py",
   "mimetype": "text/x-python",
   "name": "python",
   "nbconvert_exporter": "python",
   "pygments_lexer": "ipython3",
   "version": "3.8.3"
  }
 },
 "nbformat": 4,
 "nbformat_minor": 5
}
